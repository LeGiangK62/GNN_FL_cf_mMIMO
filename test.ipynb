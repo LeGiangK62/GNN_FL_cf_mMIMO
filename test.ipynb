{
 "cells": [
  {
   "cell_type": "code",
   "execution_count": 24,
   "id": "e5da4c45",
   "metadata": {},
   "outputs": [
    {
     "name": "stdout",
     "output_type": "stream",
     "text": [
      "The autoreload extension is already loaded. To reload it, use:\n",
      "  %reload_ext autoreload\n"
     ]
    }
   ],
   "source": [
    "import torch\n",
    "import numpy as np\n",
    "from torch_geometric.loader import DataLoader\n",
    "\n",
    "from Models.GNN import IGCNet\n",
    "from Utils.data_gen import Generate_Input, Generate_Label, proc_data\n",
    "from Utils.training import sr_loss_matrix\n",
    "%load_ext autoreload\n",
    "%autoreload 2\n"
   ]
  },
  {
   "cell_type": "markdown",
   "id": "7a5b7e4a",
   "metadata": {},
   "source": [
    "# Parameters"
   ]
  },
  {
   "cell_type": "code",
   "execution_count": 14,
   "id": "e8628b18",
   "metadata": {},
   "outputs": [],
   "source": [
    "num_H = 200\n",
    "num_test = 20\n",
    "K = 20 # number of terminals\n",
    "M = 50 # number of access points\n",
    "B = 20 # Mhz\n",
    "D = 1 # km\n",
    "tau=10\n",
    "random_matrix = np.random.randn(tau, tau)\n",
    "U, S, V = np.linalg.svd(random_matrix)\n",
    "\n",
    "Hb = 15 # Base station height in m\n",
    "Hm = 1.65 # Mobile height in m\n",
    "f = 1900 # Frequency in MHz\n",
    "aL = (1.1 * np.log10(f) - 0.7) * Hm - (1.56 * np.log10(f) - 0.8)\n",
    "L = 46.3+33.9*np.log10(f)-13.82*np.log10(Hb)-aL\n",
    "\n",
    "power_f=0.2 # downlink power\n",
    "# Pd = power_f / 10 ** ((-203.975 + 10 * np.log10(20 * 10 ** 6) + 9) / 10) # normalized receive SNR\n",
    "Ther_noise = 20000000 * 10**(-17.4) * 10**-3\n",
    "Pd = 1/Ther_noise\n",
    "Pu=Pd\n",
    "\n",
    "d0=0.01 # km\n",
    "d1=0.05 # km\n",
    "\n",
    "N = 50\n",
    "\n",
    "R_cf_min = np.zeros(N)  # Cell Free\n",
    "R_cf_sum = np.zeros(N)\n",
    "R_cf_opt_min = np.zeros(N)"
   ]
  },
  {
   "cell_type": "code",
   "execution_count": 15,
   "id": "30c161a0",
   "metadata": {},
   "outputs": [],
   "source": [
    "# Generate Phii for num_H samples\n",
    "Phii_All = np.zeros((num_H,K,tau))\n",
    "for ite in range(num_H):\n",
    "  Phii = np.zeros((K,tau))\n",
    "  for k in range(K):\n",
    "    Point = k % tau\n",
    "    # Point = np.random.randint(1, tau+1)\n",
    "    Phii[k,:] = U[Point - 1,:]\n",
    "  Phii_All[ite,:,:] = Phii\n",
    "\n",
    "Phii_Test = np.zeros((num_test,K,tau))\n",
    "for ite in range(num_test):\n",
    "  Phii = np.zeros((K,tau))\n",
    "  for k in range(K):\n",
    "    Point = np.random.randint(1, tau+1)\n",
    "    Phii[k,:] = U[Point - 1,:]\n",
    "  Phii_Test[ite,:,:] = Phii\n",
    "\n",
    "BETAA_ALL = Generate_Input(num_H, tau, K, M, Pd, D=1, Hb=15, Hm=1.65, f=1900,\n",
    "                    var_noise=1, Pmin=0, seed=2017, d0=d0, d1=d1)\n",
    "BETAA_Test = Generate_Input(num_test, tau, K, M, Pd, D=1, Hb=15, Hm=1.65, f=1900,\n",
    "                    var_noise=1, Pmin=0, seed=2017, d0=d0, d1=d1)\n",
    "Eta_All = Generate_Label(num_H, tau, K, M, BETAA_ALL,Phii_All, Pu, Pd)\n",
    "Eta_Test = Generate_Label(num_test, tau, K, M, BETAA_Test,Phii_Test, Pu, Pd)"
   ]
  },
  {
   "cell_type": "code",
   "execution_count": 16,
   "id": "eb5ff1e1",
   "metadata": {},
   "outputs": [
    {
     "name": "stdout",
     "output_type": "stream",
     "text": [
      "True\n"
     ]
    }
   ],
   "source": [
    "train_data_list_all = proc_data(BETAA_ALL, Phii_All, Eta_All, Pd)\n",
    "test_data_list_all = proc_data(BETAA_Test,Phii_Test,Eta_Test, Pd)\n",
    "selectedAP = 0\n",
    "train_data_list = []\n",
    "test_data_list = []\n",
    "for m in range(M):\n",
    "  train_data_list.append([train_data_list_all[i+m] for i in range(0,num_H*M,M)]) # select the first AP to train the model\n",
    "  test_data_list.append([test_data_list_all[i+m] for i in range(0,num_test*M,M)])\n",
    "device = torch.device('cuda' if torch.cuda.is_available() else 'cpu')\n",
    "print(torch.cuda.is_available())"
   ]
  },
  {
   "cell_type": "code",
   "execution_count": 21,
   "id": "21a97419",
   "metadata": {},
   "outputs": [],
   "source": [
    "train_loader = [[] for _ in range(M)]\n",
    "test_loader = [[] for _ in range(M)]\n",
    "for m in range(M):\n",
    "  train_loader[m] = list(DataLoader(train_data_list[m], batch_size=32, shuffle=False,num_workers=0))\n",
    "  test_loader[m] = list(DataLoader(test_data_list[m], batch_size=32, shuffle=False,num_workers=0))\n",
    "# for m in range(M):\n",
    "#   train_loader[m] = list(train_loader[m])\n",
    "#   test_loader[m] = list(test_loader[m])"
   ]
  },
  {
   "cell_type": "code",
   "execution_count": null,
   "id": "19e789a3",
   "metadata": {},
   "outputs": [
    {
     "name": "stderr",
     "output_type": "stream",
     "text": [
      "/home/wine-4/miniconda3/envs/GNN_FL/lib/python3.10/site-packages/torch_geometric/warnings.py:17: UserWarning: The usage of `scatter(reduce='max')` can be accelerated via the 'torch-scatter' package, but it was not found\n",
      "  warnings.warn(message)\n"
     ]
    },
    {
     "ename": "NameError",
     "evalue": "name 'tau' is not defined",
     "output_type": "error",
     "traceback": [
      "\u001b[0;31m---------------------------------------------------------------------------\u001b[0m",
      "\u001b[0;31mNameError\u001b[0m                                 Traceback (most recent call last)",
      "Cell \u001b[0;32mIn[26], line 40\u001b[0m\n\u001b[1;32m     37\u001b[0m         out_trainn\u001b[38;5;241m.\u001b[39mappend(model(data))\n\u001b[1;32m     39\u001b[0m \u001b[38;5;66;03m# Loss calculation\u001b[39;00m\n\u001b[0;32m---> 40\u001b[0m loss,_,_ \u001b[38;5;241m=\u001b[39m \u001b[43msr_loss_matrix\u001b[49m\u001b[43m(\u001b[49m\u001b[43mdata_trainn\u001b[49m\u001b[43m,\u001b[49m\u001b[43m \u001b[49m\u001b[43mout_trainn\u001b[49m\u001b[43m,\u001b[49m\u001b[43m \u001b[49m\u001b[43mK\u001b[49m\u001b[43m,\u001b[49m\u001b[43m \u001b[49m\u001b[43mM\u001b[49m\u001b[43m,\u001b[49m\u001b[43m \u001b[49m\u001b[43msr_weight\u001b[49m\u001b[43m,\u001b[49m\u001b[43m \u001b[49m\u001b[43mnsu_weight\u001b[49m\u001b[43m,\u001b[49m\u001b[43m \u001b[49m\u001b[43mRthr\u001b[49m\u001b[43m)\u001b[49m\n\u001b[1;32m     41\u001b[0m loss\u001b[38;5;241m.\u001b[39mbackward()\n\u001b[1;32m     42\u001b[0m total_loss_train \u001b[38;5;241m+\u001b[39m\u001b[38;5;241m=\u001b[39m loss\u001b[38;5;241m.\u001b[39mitem() \u001b[38;5;241m*\u001b[39m train_loader[m][ite]\u001b[38;5;241m.\u001b[39mnum_graphs\n",
      "File \u001b[0;32m~/Documents/Giang/GNN_FL/Utils/training.py:26\u001b[0m, in \u001b[0;36msr_loss_matrix\u001b[0;34m(data_trainn, out_trainn, K, M, sr_weight, nsu_weight, Rthr)\u001b[0m\n\u001b[1;32m     23\u001b[0m BETAA_repeat_row \u001b[38;5;241m=\u001b[39m torch\u001b[38;5;241m.\u001b[39mstack([TermBETAA[ite]\u001b[38;5;241m.\u001b[39mt()\u001b[38;5;241m.\u001b[39mrepeat(K,\u001b[38;5;241m1\u001b[39m) \u001b[38;5;28;01mfor\u001b[39;00m ite \u001b[38;5;129;01min\u001b[39;00m \u001b[38;5;28mrange\u001b[39m(N_graph)]) \u001b[38;5;66;03m# a row is a vector of channel\u001b[39;00m\n\u001b[1;32m     25\u001b[0m \u001b[38;5;66;03m# Gamma calculation\u001b[39;00m\n\u001b[0;32m---> 26\u001b[0m Denom_matrix \u001b[38;5;241m=\u001b[39m \u001b[43mtau\u001b[49m \u001b[38;5;241m*\u001b[39m torch\u001b[38;5;241m.\u001b[39msum(torch\u001b[38;5;241m.\u001b[39mmul(Phii_Multiplication, BETAA_repeat_row), dim\u001b[38;5;241m=\u001b[39m\u001b[38;5;241m2\u001b[39m, keepdim\u001b[38;5;241m=\u001b[39m\u001b[38;5;28;01mTrue\u001b[39;00m) \u001b[38;5;241m+\u001b[39m \u001b[38;5;241m1\u001b[39m\n\u001b[1;32m     27\u001b[0m Gamma \u001b[38;5;241m=\u001b[39m tau \u001b[38;5;241m*\u001b[39m (torch\u001b[38;5;241m.\u001b[39msquare(TermBETAA)\u001b[38;5;241m/\u001b[39mDenom_matrix)\n\u001b[1;32m     29\u001b[0m \u001b[38;5;66;03m# Pilot Contamination\u001b[39;00m\n",
      "\u001b[0;31mNameError\u001b[0m: name 'tau' is not defined"
     ]
    }
   ],
   "source": [
    "sr_weight = 0.2\n",
    "nsu_weight = 0.8\n",
    "Rthr = 3\n",
    "\n",
    "# Load your model\n",
    "# %cd '/content/drive/MyDrive/Mylearning/GNN_FL_based_Cell_Free_M_MIMO(Personal)'\n",
    "device = torch.device('cuda' if torch.cuda.is_available() else 'cpu')\n",
    "model = IGCNet().to(device)\n",
    "# model.load_state_dict(torch.load('Decen_10Antens_all.pth'))\n",
    "\n",
    "# model = IGCNet().to(device)\n",
    "# use_gpu = torch.cuda.is_available()\n",
    "# if use_gpu:\n",
    "#     model = model.cuda()\n",
    "\n",
    "\n",
    "optimizer = torch.optim.Adam(model.parameters(), lr=0.001)\n",
    "scheduler = torch.optim.lr_scheduler.StepLR(optimizer, step_size=20, gamma=0.9)\n",
    "\n",
    "LossSave=[]\n",
    "TestLossSave=[]\n",
    "for epoch in range(1,100):\n",
    "  model.train()\n",
    "\n",
    "  total_loss_train = 0\n",
    "  for ite in range(len(train_loader[0])): # len(train_loader[0]) ~ number of batch\n",
    "    data_trainn = []\n",
    "    out_trainn = []\n",
    "    for m in range(M): # 2\n",
    "      data = train_loader[m][ite]\n",
    "      data = data.to(device)\n",
    "      data_trainn.append(data)\n",
    "      if m==0:\n",
    "        out_trainn.append(model(data))\n",
    "      else:\n",
    "        with torch.no_grad():\n",
    "            out_trainn.append(model(data))\n",
    "\n",
    "    # Loss calculation\n",
    "    loss,_,_ = sr_loss_matrix(data_trainn, out_trainn, K, M, sr_weight, nsu_weight, Rthr, tau)\n",
    "    loss.backward()\n",
    "    total_loss_train += loss.item() * train_loader[m][ite].num_graphs\n",
    "    optimizer.step()\n",
    "    optimizer.zero_grad()\n",
    "  loss1 = total_loss_train/num_H*-1\n",
    "  LossSave.append(loss1)\n",
    "  if (epoch % 1 ==0):\n",
    "    model.eval()\n",
    "\n",
    "    total_loss_test = 0\n",
    "    sumrate_test = 0\n",
    "    num_satisfied_test = 0\n",
    "    for ite in range(len(test_loader[0])):\n",
    "      data_testt = []\n",
    "      out_testt = []\n",
    "      for m in range(M):\n",
    "        data_testt.append(test_loader[m][ite])\n",
    "        out_testt.append(model(test_loader[m][ite].to(device)))\n",
    "      # Loss calculation\n",
    "      with torch.no_grad():\n",
    "        loss,sumrate,num_satisfied = sr_loss_matrix(data_testt, out_testt, K, M, sr_weight, nsu_weight, Rthr)\n",
    "        # print(f\"loss test: {loss.item()}\")\n",
    "        total_loss_test += loss.item() * test_loader[m][ite].num_graphs\n",
    "        sumrate_test += sumrate.item() * test_loader[m][ite].num_graphs\n",
    "        num_satisfied_test += num_satisfied.item() * test_loader[m][ite].num_graphs\n",
    "        # print(f\"total_loss_test: {total_loss_test}\")\n",
    "    # print(num_test)\n",
    "    loss2 = total_loss_test/num_test*-1\n",
    "    sumrate2 = sumrate_test/num_test\n",
    "    num_satisfied2 = num_satisfied_test/num_test\n",
    "    TestLossSave.append(loss2)\n",
    "    print('Epoch {:03d}, Train Loss: {:.4f}, Val Loss: {:.4f}, Sum rate: {:.4f}, Number of satisfied Users: {:.4f}'.format(\n",
    "            epoch, loss1, loss2, sumrate2, num_satisfied2))\n",
    "    scheduler.step()"
   ]
  }
 ],
 "metadata": {
  "kernelspec": {
   "display_name": "GNN_FL",
   "language": "python",
   "name": "python3"
  },
  "language_info": {
   "codemirror_mode": {
    "name": "ipython",
    "version": 3
   },
   "file_extension": ".py",
   "mimetype": "text/x-python",
   "name": "python",
   "nbconvert_exporter": "python",
   "pygments_lexer": "ipython3",
   "version": "3.10.18"
  }
 },
 "nbformat": 4,
 "nbformat_minor": 5
}
