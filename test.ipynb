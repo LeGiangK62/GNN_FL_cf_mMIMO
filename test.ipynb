{
 "cells": [
  {
   "cell_type": "code",
   "execution_count": 1,
   "id": "e5da4c45",
   "metadata": {},
   "outputs": [],
   "source": [
    "import torch\n",
    "import numpy as np\n",
    "from torch_geometric.loader import DataLoader\n",
    "\n",
    "# from Models.GNN import IGCNet\n",
    "from Utils.data_gen import Generate_Input, create_graph\n",
    "from Utils.training import sr_loss_matrix, average_weights\n",
    "%load_ext autoreload\n",
    "%autoreload 2\n"
   ]
  },
  {
   "cell_type": "markdown",
   "id": "7a5b7e4a",
   "metadata": {},
   "source": [
    "# Parameters"
   ]
  },
  {
   "cell_type": "code",
   "execution_count": 2,
   "id": "e8628b18",
   "metadata": {},
   "outputs": [],
   "source": [
    "num_H = 8\n",
    "num_test = 20\n",
    "K = 5 # number of terminals\n",
    "M = 10 # number of access points\n",
    "B = 20 # Mhz\n",
    "D = 1 # km\n",
    "tau=10\n",
    "random_matrix = np.random.randn(tau, tau)\n",
    "U, S, V = np.linalg.svd(random_matrix)\n",
    "\n",
    "Hb = 15 # Base station height in m\n",
    "Hm = 1.65 # Mobile height in m\n",
    "f = 1900 # Frequency in MHz\n",
    "aL = (1.1 * np.log10(f) - 0.7) * Hm - (1.56 * np.log10(f) - 0.8)\n",
    "L = 46.3+33.9*np.log10(f)-13.82*np.log10(Hb)-aL\n",
    "\n",
    "power_f=0.2 # downlink power\n",
    "# Pd = power_f / 10 ** ((-203.975 + 10 * np.log10(20 * 10 ** 6) + 9) / 10) # normalized receive SNR\n",
    "Ther_noise = 20000000 * 10**(-17.4) * 10**-3\n",
    "Pd = 1/Ther_noise\n",
    "Pu=Pd\n",
    "\n",
    "d0=0.01 # km\n",
    "d1=0.05 # km\n",
    "\n",
    "N = 50\n",
    "\n",
    "R_cf_min = np.zeros(N)  # Cell Free\n",
    "R_cf_sum = np.zeros(N)\n",
    "R_cf_opt_min = np.zeros(N)"
   ]
  },
  {
   "cell_type": "code",
   "execution_count": 3,
   "id": "46da556e",
   "metadata": {},
   "outputs": [],
   "source": [
    "num_train = 4\n",
    "num_test = 2\n",
    "batchSize = 32\n",
    "num_rounds = 20\n",
    "\n",
    "num_epochs = 500\n",
    "lr = 1e-4\n",
    "step_size = 5\n",
    "gamma = 0.9"
   ]
  },
  {
   "cell_type": "code",
   "execution_count": 19,
   "id": "6df002b7",
   "metadata": {},
   "outputs": [],
   "source": [
    "num_AP = M \n",
    "Beta_all, Phi_all = Generate_Input(num_train, tau, K, M, Pd, D=1, Hb=15, Hm=1.65, f=1900,\n",
    "                    var_noise=1, Pmin=0, seed=2017, d0=d0, d1=d1)\n",
    "train_data = create_graph(Beta_all, Phi_all)\n",
    "train_loader = [\n",
    "    DataLoader(train_data[i], batch_size=batchSize, shuffle=True)\n",
    "    for i in range(num_AP)\n",
    "]\n",
    "\n",
    "Beta_test, Phi_test = Generate_Input(num_test, tau, K, M, Pd, D=1, Hb=15, Hm=1.65, f=1900,\n",
    "                    var_noise=1, Pmin=0, seed=2017, d0=d0, d1=d1)\n",
    "test_data = create_graph(Beta_test, Phi_test)\n",
    "test_loader = [\n",
    "    DataLoader(test_data[i], batch_size=batchSize, shuffle=False)\n",
    "    for i in range(num_AP)\n",
    "]"
   ]
  },
  {
   "cell_type": "code",
   "execution_count": null,
   "id": "5c62645d",
   "metadata": {},
   "outputs": [],
   "source": [
    "\n",
    "def per_AP_calculate(power, data):\n",
    "    return None, None, None\n",
    "\n",
    "def data_process(ds, pc, ui):\n",
    "    return None\n",
    "\n",
    "def return_graph(data):\n",
    "    return None"
   ]
  },
  {
   "cell_type": "code",
   "execution_count": 23,
   "id": "bdb0f8da",
   "metadata": {},
   "outputs": [
    {
     "name": "stdout",
     "output_type": "stream",
     "text": [
      "DataBatch(x=[20, 12], edge_index=[2, 80], edge_attr=[80, 2], batch=[20], ptr=[5])\n"
     ]
    }
   ],
   "source": [
    "for batches in zip(*train_loader): \n",
    "    print(batches[9])\n",
    "    # break"
   ]
  },
  {
   "cell_type": "code",
   "execution_count": null,
   "id": "15debd24",
   "metadata": {},
   "outputs": [
    {
     "ename": "SyntaxError",
     "evalue": "incomplete input (1510043625.py, line 35)",
     "output_type": "error",
     "traceback": [
      "\u001b[0;36m  Cell \u001b[0;32mIn[8], line 35\u001b[0;36m\u001b[0m\n\u001b[0;31m    # tmp = rate_calculation(powerMatrix, largeScale, channelVariance, pilotAssignment)\u001b[0m\n\u001b[0m                                                                                       ^\u001b[0m\n\u001b[0;31mSyntaxError\u001b[0m\u001b[0;31m:\u001b[0m incomplete input\n"
     ]
    }
   ],
   "source": [
    "from Models.GNN import APNet\n",
    "from Utils.training import rate_calculation\n",
    "\n",
    "device = torch.device('cuda' if torch.cuda.is_available() else 'cpu')\n",
    "\n",
    "global_model = APNet(node_dim=12, edge_dim=2, hidden_dim=32).to(device)\n",
    "local_models, optimizers = [], []\n",
    "\n",
    "# Init every client model/optimizer\n",
    "for each_AP in range(num_AP):\n",
    "    model = APNet(node_dim=12, edge_dim=2, hidden_dim=32).to(device)\n",
    "    optimizer = torch.optim.Adam(model.parameters(), lr=lr)\n",
    "    local_models.append(model)\n",
    "    optimizers.append(optimizer)\n",
    "\n",
    "for round in range(num_rounds):\n",
    "    # zip loaders to align batches across APs\n",
    "    for batches in zip(*train_loader):                       # sync step across APs\n",
    "        per_ap_cache, send_to_server = [], []\n",
    "        for model, opt, batch in zip(local_models, optimizers, batches):\n",
    "            model.eval()\n",
    "            batch = batch.to(device)\n",
    "\n",
    "            power = model(batch)                             # your APNet output\n",
    "            ds_k, pc_k, ui_k = per_AP_calculate(power, batch)  # implement physics here\n",
    "            send_to_server.append({\"ds\": ds_k.detach(),\n",
    "                            \"pc\": pc_k.detach(),\n",
    "                            \"ui\": ui_k.detach()})\n",
    "            per_ap_cache.append((ds_k, pc_k, ui_k, opt))\n",
    "\n",
    "        return_from_server = return_graph(send_to_server)\n",
    "        # Training each client with the coresponding data/model/compliment\n",
    "        for model, opt, batch, compliment in zip(local_models, optimizers, batches, return_from_server):\n",
    "            model.train(); opt.zero_grad(); batch = batch.to(device)\n",
    "            local_loss = train(batch, model, opt, compliment)\n",
    "            local_loss.backward()\n",
    "            opt.step()\n",
    "\n",
    "    # --- FedAvg (optional, by sample count) ---\n",
    "    local_weights = [m.state_dict() for m in local_models]\n",
    "    sizes = [len(dl.dataset) for dl in train_loader]\n",
    "    new_state = average_weights(local_weights, sizes)\n",
    "    global_model.load_state_dict(new_state)\n",
    "    \n",
    "    # Update client models\n",
    "    for m in local_models: m.load_state_dict(global_model.state_dict())\n",
    "    \n",
    "\n"
   ]
  },
  {
   "cell_type": "code",
   "execution_count": null,
   "id": "7c9511c0",
   "metadata": {},
   "outputs": [],
   "source": []
  },
  {
   "cell_type": "code",
   "execution_count": 6,
   "id": "e7a62b0b",
   "metadata": {},
   "outputs": [],
   "source": [
    "from Utils.training import train, eval\n",
    "\n",
    "num_rounds = 1\n",
    "for round in range(num_rounds):\n",
    "    local_weights = []\n",
    "    \n",
    "    # Local training\n",
    "    for i in range(num_AP):\n",
    "        dataLoader, model, optimizer = train_loader[i], local_models[i], optimizers[i]\n",
    "        break\n",
    "        local_loss = train(train_loader[i], local_models[i], optimizers[i])\n",
    "        local_weights.append(local_models[i].state_dict())\n",
    "\n",
    "    # Server aggregation (FedAvg)\n",
    "    # new_state = average_weights(local_weights)\n",
    "    # global_model.load_state_dict(new_state)\n",
    "\n",
    "    # # Distribute updated global model back to all clients\n",
    "    # for i in range(num_AP):\n",
    "    #     local_models[i].load_state_dict(global_model.state_dict())"
   ]
  },
  {
   "cell_type": "code",
   "execution_count": 283,
   "id": "b30de63f",
   "metadata": {},
   "outputs": [],
   "source": [
    "for batch in dataLoader:\n",
    "    power = model(batch)\n",
    "    break"
   ]
  },
  {
   "cell_type": "markdown",
   "id": "54807c36",
   "metadata": {},
   "source": [
    "# Loss function"
   ]
  },
  {
   "cell_type": "code",
   "execution_count": 295,
   "id": "3dbc99ce",
   "metadata": {},
   "outputs": [
    {
     "name": "stdout",
     "output_type": "stream",
     "text": [
      "node_feat: torch.Size([20, 12])\n",
      "node_feat: torch.Size([4, 5, 1])\n",
      "edge_attr: torch.Size([80, 2])\n"
     ]
    }
   ],
   "source": [
    "device = torch.device('cuda' if torch.cuda.is_available() else 'cpu')\n",
    "Ther_noise = 20000000 * 10**(-17.4) * 10**-3\n",
    "Pp = 1/Ther_noise\n",
    "NoAntennas = 10\n",
    "\n",
    "\n",
    "num_graphs = batch.num_graphs\n",
    "node_feat = batch.x\n",
    "edge_attr = batch.edge_attr\n",
    "\n",
    "num_UE = node_feat.shape[0]//num_graphs\n",
    "\n",
    "node_matrix = batch.x.reshape(num_graphs, num_UE, -1)\n",
    "power = power.reshape(num_graphs, num_UE, 1)\n",
    "\n",
    "direct_channel = node_matrix[:,:,:1]\n",
    "pilot_assignment = node_matrix[:,:,1:-1]\n",
    "\n",
    "# Desire Signal - Fixed for each AP - no need exchange\n",
    "desired_signal = direct_channel * power\n",
    "\n",
    "# Pilot Contamination - Fixed for each AP\n",
    "pilot_contamination = torch.bmm(\n",
    "    pilot_assignment,                     # (num_graphs, num_UE, tau)\n",
    "    pilot_assignment.transpose(1, 2),      # (num_graphs, tau, num_UE)\n",
    ").abs()\n",
    "\n",
    "print(f'node_feat: {node_feat.shape}')\n",
    "print(f'node_feat: {direct_channel.shape}')\n",
    "\n",
    "print(f'edge_attr: {edge_attr.shape}')"
   ]
  },
  {
   "cell_type": "code",
   "execution_count": 296,
   "id": "6d0c002e",
   "metadata": {},
   "outputs": [
    {
     "name": "stdout",
     "output_type": "stream",
     "text": [
      "Local data of each AP:\n",
      "Node feature:\n",
      "\t desired large scale + tau + hidden dim: torch.Size([4, 5, 12])\n",
      "Edge attribute:\n",
      "\t large scale fading (2 ways): torch.Size([80, 2])\n",
      "Large scale fading: \t torch.Size([4, 5, 1])\n",
      "Power of each AP: \t torch.Size([4, 5, 1])\n",
      "Pilot: \t\t\t torch.Size([4, 5, 10])\n"
     ]
    }
   ],
   "source": [
    "print('Local data of each AP:')\n",
    "print('Node feature:')\n",
    "print(f'\\t desired large scale + tau + hidden dim: {node_matrix.shape}')\n",
    "print('Edge attribute:')\n",
    "print(f'\\t large scale fading (2 ways): {batch.edge_attr.shape}')\n",
    "\n",
    "print(f'Large scale fading: \\t {direct_channel.shape}')\n",
    "print(f'Power of each AP: \\t {power.shape}')\n",
    "print(f'Pilot: \\t\\t\\t {pilot_assignment.shape}')\n"
   ]
  },
  {
   "cell_type": "code",
   "execution_count": 292,
   "id": "2f808ce6",
   "metadata": {},
   "outputs": [],
   "source": [
    "largeScale = torch.rand(num_graphs, num_AP, num_UE, device=device) # beta\n",
    "channelVariance = torch.rand(num_graphs, num_AP, num_UE, device=device)\n",
    "powerMatrix = torch.rand(num_graphs, num_AP, num_UE, device=device) # sqrt of the power\n",
    "pilotAssignment = torch.rand(num_graphs, num_UE, tau, device=device)\n"
   ]
  },
  {
   "cell_type": "code",
   "execution_count": 293,
   "id": "690cb668",
   "metadata": {},
   "outputs": [
    {
     "name": "stdout",
     "output_type": "stream",
     "text": [
      "Requirement to calculate rate:\n",
      "\t Full large scale fading: \t torch.Size([4, 10, 5])\n",
      "\t Power allocation: \t\t torch.Size([4, 10, 5])\n",
      "\t Pilot: \t\t\t torch.Size([4, 5, 10])\n"
     ]
    }
   ],
   "source": [
    "print(\"Requirement to calculate rate:\")\n",
    "print(f'\\t Full large scale fading: \\t {largeScale.shape}')\n",
    "print(f'\\t Power allocation: \\t\\t {powerMatrix.shape}')\n",
    "print(f'\\t Pilot: \\t\\t\\t {pilotAssignment.shape}')"
   ]
  },
  {
   "cell_type": "markdown",
   "id": "cdf7c8e6",
   "metadata": {},
   "source": [
    "## Test"
   ]
  },
  {
   "cell_type": "code",
   "execution_count": 226,
   "id": "018b13c0",
   "metadata": {},
   "outputs": [],
   "source": [
    "largeScale = torch.rand(num_graphs, num_AP, num_UE, device=device) # beta\n",
    "channelVariance = torch.rand(num_graphs, num_AP, num_UE, device=device)\n",
    "powerMatrix = torch.rand(num_graphs, num_AP, num_UE, device=device) # sqrt of the power\n",
    "pilotAssignment = torch.rand(num_graphs, num_UE, tau, device=device)\n",
    "\n",
    "SINR_num = torch.sum(powerMatrix*channelVariance, dim=1) ** 2\n",
    "\n",
    "powerExpanded = (powerMatrix*channelVariance).unsqueeze(-1)\n",
    "largeScaleExpanded = largeScale.unsqueeze(-2)\n",
    "userInterference = torch.sum(powerExpanded * largeScaleExpanded, dim=(1, 2))\n",
    "\n",
    "interm_var1 = (powerMatrix/ largeScale).unsqueeze(-1)\n",
    "interm_var2 = (channelVariance * largeScale).unsqueeze(-2)\n",
    "prod = torch.sum(interm_var1 * interm_var2, dim=1) ** 2\n",
    "diag_vec = prod.diagonal(dim1=-2, dim2=-1).unsqueeze(-1) * torch.eye(powerMatrix.shape[2], device=powerMatrix.device)\n",
    "\n",
    "pilotContamination = torch.bmm(\n",
    "    pilotAssignment,\n",
    "    pilotAssignment.transpose(1, 2),\n",
    ").abs()\n",
    "\n",
    "pilotContamination = (prod - diag_vec) * pilotContamination\n",
    "pilotContamination = torch.sum(pilotContamination, dim=1)\n",
    "\n",
    "\n",
    "SINR_denom = 1 + userInterference + pilotContamination\n",
    "rate = torch.log2(1 + SINR_num/SINR_denom)"
   ]
  },
  {
   "cell_type": "code",
   "execution_count": null,
   "id": "edb58cc7",
   "metadata": {},
   "outputs": [],
   "source": [
    "from Utils.training import rate_calculation\n",
    "\n",
    "tmp = rate_calculation(powerMatrix, largeScale, channelVariance, pilotAssignment)"
   ]
  },
  {
   "cell_type": "code",
   "execution_count": 230,
   "id": "f0ad5122",
   "metadata": {},
   "outputs": [
    {
     "data": {
      "text/plain": [
       "tensor([[0., 0., 0., 0., 0.],\n",
       "        [0., 0., 0., 0., 0.],\n",
       "        [0., 0., 0., 0., 0.],\n",
       "        [0., 0., 0., 0., 0.]], device='cuda:0')"
      ]
     },
     "execution_count": 230,
     "metadata": {},
     "output_type": "execute_result"
    }
   ],
   "source": [
    "rate - tmp"
   ]
  },
  {
   "cell_type": "markdown",
   "id": "a71ca6e8",
   "metadata": {},
   "source": [
    "# Others"
   ]
  },
  {
   "cell_type": "code",
   "execution_count": null,
   "id": "3fceffe2",
   "metadata": {},
   "outputs": [],
   "source": [
    "DS_all = torch.zeros((M,N_graph,K,1))\n",
    "PC_all = torch.zeros((M,N_graph,K,K))\n",
    "UI_all = torch.zeros((M,N_graph,K,1))"
   ]
  },
  {
   "cell_type": "code",
   "execution_count": null,
   "id": "c8b2b6aa",
   "metadata": {},
   "outputs": [
    {
     "ename": "AttributeError",
     "evalue": "'GlobalStorage' object has no attribute 'x_dict'",
     "output_type": "error",
     "traceback": [
      "\u001b[0;31m---------------------------------------------------------------------------\u001b[0m",
      "\u001b[0;31mAttributeError\u001b[0m                            Traceback (most recent call last)",
      "Cell \u001b[0;32mIn[72], line 4\u001b[0m\n\u001b[1;32m      2\u001b[0m \u001b[38;5;28;01mfor\u001b[39;00m epoch \u001b[38;5;129;01min\u001b[39;00m \u001b[38;5;28mrange\u001b[39m(num_epochs):\n\u001b[1;32m      3\u001b[0m     \u001b[38;5;28;01mwith\u001b[39;00m torch\u001b[38;5;241m.\u001b[39mno_grad():\n\u001b[0;32m----> 4\u001b[0m         test_min_rate \u001b[38;5;241m=\u001b[39m \u001b[38;5;28;43meval\u001b[39;49m\u001b[43m(\u001b[49m\u001b[43mtest_loader\u001b[49m\u001b[43m,\u001b[49m\u001b[43m \u001b[49m\u001b[43mmodel\u001b[49m\u001b[43m)\u001b[49m\n\u001b[1;32m      5\u001b[0m         train_min_rate \u001b[38;5;241m=\u001b[39m \u001b[38;5;28meval\u001b[39m(train_loader, model)\n\u001b[1;32m      6\u001b[0m     train_loss \u001b[38;5;241m=\u001b[39m train(train_loader, model, optimizer)\n",
      "File \u001b[0;32m~/miniconda3/envs/GNN_FL/lib/python3.10/site-packages/torch/utils/_contextlib.py:115\u001b[0m, in \u001b[0;36mcontext_decorator.<locals>.decorate_context\u001b[0;34m(*args, **kwargs)\u001b[0m\n\u001b[1;32m    112\u001b[0m \u001b[38;5;129m@functools\u001b[39m\u001b[38;5;241m.\u001b[39mwraps(func)\n\u001b[1;32m    113\u001b[0m \u001b[38;5;28;01mdef\u001b[39;00m\u001b[38;5;250m \u001b[39m\u001b[38;5;21mdecorate_context\u001b[39m(\u001b[38;5;241m*\u001b[39margs, \u001b[38;5;241m*\u001b[39m\u001b[38;5;241m*\u001b[39mkwargs):\n\u001b[1;32m    114\u001b[0m     \u001b[38;5;28;01mwith\u001b[39;00m ctx_factory():\n\u001b[0;32m--> 115\u001b[0m         \u001b[38;5;28;01mreturn\u001b[39;00m \u001b[43mfunc\u001b[49m\u001b[43m(\u001b[49m\u001b[38;5;241;43m*\u001b[39;49m\u001b[43margs\u001b[49m\u001b[43m,\u001b[49m\u001b[43m \u001b[49m\u001b[38;5;241;43m*\u001b[39;49m\u001b[38;5;241;43m*\u001b[39;49m\u001b[43mkwargs\u001b[49m\u001b[43m)\u001b[49m\n",
      "File \u001b[0;32m~/Documents/Giang/GNN_FL_cf_mMIMO/Utils/training.py:169\u001b[0m, in \u001b[0;36meval\u001b[0;34m(dataLoader, model)\u001b[0m\n\u001b[1;32m    166\u001b[0m batch \u001b[38;5;241m=\u001b[39m batch\u001b[38;5;241m.\u001b[39mto(device)\n\u001b[1;32m    167\u001b[0m num_graph \u001b[38;5;241m=\u001b[39m batch\u001b[38;5;241m.\u001b[39mnum_graphs\n\u001b[0;32m--> 169\u001b[0m power \u001b[38;5;241m=\u001b[39m model(\u001b[43mbatch\u001b[49m\u001b[38;5;241;43m.\u001b[39;49m\u001b[43mx_dict\u001b[49m, batch\u001b[38;5;241m.\u001b[39medge_index_dict, batch\u001b[38;5;241m.\u001b[39medge_attr_dict)\n\u001b[1;32m    170\u001b[0m loss \u001b[38;5;241m=\u001b[39m loss_function(power, batch\u001b[38;5;241m.\u001b[39medge_attr_dict)\n\u001b[1;32m    173\u001b[0m total_loss \u001b[38;5;241m+\u001b[39m\u001b[38;5;241m=\u001b[39m loss\u001b[38;5;241m.\u001b[39mitem() \u001b[38;5;241m*\u001b[39m num_graph\n",
      "File \u001b[0;32m~/miniconda3/envs/GNN_FL/lib/python3.10/site-packages/torch_geometric/data/data.py:482\u001b[0m, in \u001b[0;36mData.__getattr__\u001b[0;34m(self, key)\u001b[0m\n\u001b[1;32m    476\u001b[0m \u001b[38;5;28;01mif\u001b[39;00m \u001b[38;5;124m'\u001b[39m\u001b[38;5;124m_store\u001b[39m\u001b[38;5;124m'\u001b[39m \u001b[38;5;129;01mnot\u001b[39;00m \u001b[38;5;129;01min\u001b[39;00m \u001b[38;5;28mself\u001b[39m\u001b[38;5;241m.\u001b[39m\u001b[38;5;18m__dict__\u001b[39m:\n\u001b[1;32m    477\u001b[0m     \u001b[38;5;28;01mraise\u001b[39;00m \u001b[38;5;167;01mRuntimeError\u001b[39;00m(\n\u001b[1;32m    478\u001b[0m         \u001b[38;5;124m\"\u001b[39m\u001b[38;5;124mThe \u001b[39m\u001b[38;5;124m'\u001b[39m\u001b[38;5;124mdata\u001b[39m\u001b[38;5;124m'\u001b[39m\u001b[38;5;124m object was created by an older version of PyG. \u001b[39m\u001b[38;5;124m\"\u001b[39m\n\u001b[1;32m    479\u001b[0m         \u001b[38;5;124m\"\u001b[39m\u001b[38;5;124mIf this error occurred while loading an already existing \u001b[39m\u001b[38;5;124m\"\u001b[39m\n\u001b[1;32m    480\u001b[0m         \u001b[38;5;124m\"\u001b[39m\u001b[38;5;124mdataset, remove the \u001b[39m\u001b[38;5;124m'\u001b[39m\u001b[38;5;124mprocessed/\u001b[39m\u001b[38;5;124m'\u001b[39m\u001b[38;5;124m directory in the dataset\u001b[39m\u001b[38;5;124m'\u001b[39m\u001b[38;5;124ms \u001b[39m\u001b[38;5;124m\"\u001b[39m\n\u001b[1;32m    481\u001b[0m         \u001b[38;5;124m\"\u001b[39m\u001b[38;5;124mroot folder and try again.\u001b[39m\u001b[38;5;124m\"\u001b[39m)\n\u001b[0;32m--> 482\u001b[0m \u001b[38;5;28;01mreturn\u001b[39;00m \u001b[38;5;28;43mgetattr\u001b[39;49m\u001b[43m(\u001b[49m\u001b[38;5;28;43mself\u001b[39;49m\u001b[38;5;241;43m.\u001b[39;49m\u001b[43m_store\u001b[49m\u001b[43m,\u001b[49m\u001b[43m \u001b[49m\u001b[43mkey\u001b[49m\u001b[43m)\u001b[49m\n",
      "File \u001b[0;32m~/miniconda3/envs/GNN_FL/lib/python3.10/site-packages/torch_geometric/data/storage.py:87\u001b[0m, in \u001b[0;36mBaseStorage.__getattr__\u001b[0;34m(self, key)\u001b[0m\n\u001b[1;32m     85\u001b[0m     \u001b[38;5;28;01mreturn\u001b[39;00m \u001b[38;5;28mself\u001b[39m[key]\n\u001b[1;32m     86\u001b[0m \u001b[38;5;28;01mexcept\u001b[39;00m \u001b[38;5;167;01mKeyError\u001b[39;00m:\n\u001b[0;32m---> 87\u001b[0m     \u001b[38;5;28;01mraise\u001b[39;00m \u001b[38;5;167;01mAttributeError\u001b[39;00m(\n\u001b[1;32m     88\u001b[0m         \u001b[38;5;124mf\u001b[39m\u001b[38;5;124m\"\u001b[39m\u001b[38;5;124m'\u001b[39m\u001b[38;5;132;01m{\u001b[39;00m\u001b[38;5;28mself\u001b[39m\u001b[38;5;241m.\u001b[39m\u001b[38;5;18m__class__\u001b[39m\u001b[38;5;241m.\u001b[39m\u001b[38;5;18m__name__\u001b[39m\u001b[38;5;132;01m}\u001b[39;00m\u001b[38;5;124m'\u001b[39m\u001b[38;5;124m object has no attribute \u001b[39m\u001b[38;5;124m'\u001b[39m\u001b[38;5;132;01m{\u001b[39;00mkey\u001b[38;5;132;01m}\u001b[39;00m\u001b[38;5;124m'\u001b[39m\u001b[38;5;124m\"\u001b[39m\n\u001b[1;32m     89\u001b[0m     ) \u001b[38;5;28;01mfrom\u001b[39;00m\u001b[38;5;250m \u001b[39m\u001b[38;5;28;01mNone\u001b[39;00m\n",
      "\u001b[0;31mAttributeError\u001b[0m: 'GlobalStorage' object has no attribute 'x_dict'"
     ]
    }
   ],
   "source": [
    "from Utils.training import train, eval\n",
    "\n",
    "records = []\n",
    "for epoch in range(num_epochs):\n",
    "    with torch.no_grad():\n",
    "        test_min_rate = eval(test_loader, model)\n",
    "        train_min_rate = eval(train_loader, model)\n",
    "    train_loss = train(train_loader, model, optimizer)\n",
    "    records.append([train_loss, train_min_rate, test_min_rate])\n",
    "    if epoch % 10 == 1:\n",
    "        print(\n",
    "            f\"Epoch {epoch:02d}, \"\n",
    "            f\"Train Loss: {train_loss:.4f},\"\n",
    "            f\"Train Min Rate: {train_min_rate:.4f},\"\n",
    "            f\"Test Min Rate: {test_min_rate:.4f},\"\n",
    "        )\n",
    "    scheduler.step()"
   ]
  },
  {
   "cell_type": "code",
   "execution_count": 15,
   "id": "30c161a0",
   "metadata": {},
   "outputs": [],
   "source": [
    "# Generate Phii for num_H samples\n",
    "Phii_All = np.zeros((num_H,K,tau))\n",
    "for ite in range(num_H):\n",
    "  Phii = np.zeros((K,tau))\n",
    "  for k in range(K):\n",
    "    Point = k % tau\n",
    "    # Point = np.random.randint(1, tau+1)\n",
    "    Phii[k,:] = U[Point - 1,:]\n",
    "  Phii_All[ite,:,:] = Phii\n",
    "\n",
    "Phii_Test = np.zeros((num_test,K,tau))\n",
    "for ite in range(num_test):\n",
    "  Phii = np.zeros((K,tau))\n",
    "  for k in range(K):\n",
    "    Point = np.random.randint(1, tau+1)\n",
    "    Phii[k,:] = U[Point - 1,:]\n",
    "  Phii_Test[ite,:,:] = Phii\n",
    "\n",
    "BETAA_ALL = Generate_Input(num_H, tau, K, M, Pd, D=1, Hb=15, Hm=1.65, f=1900,\n",
    "                    var_noise=1, Pmin=0, seed=2017, d0=d0, d1=d1)\n",
    "BETAA_Test = Generate_Input(num_test, tau, K, M, Pd, D=1, Hb=15, Hm=1.65, f=1900,\n",
    "                    var_noise=1, Pmin=0, seed=2017, d0=d0, d1=d1)\n",
    "Eta_All = Generate_Label(num_H, tau, K, M, BETAA_ALL,Phii_All, Pu, Pd)\n",
    "Eta_Test = Generate_Label(num_test, tau, K, M, BETAA_Test,Phii_Test, Pu, Pd)"
   ]
  },
  {
   "cell_type": "code",
   "execution_count": 16,
   "id": "eb5ff1e1",
   "metadata": {},
   "outputs": [
    {
     "name": "stdout",
     "output_type": "stream",
     "text": [
      "True\n"
     ]
    }
   ],
   "source": [
    "train_data_list_all = proc_data(BETAA_ALL, Phii_All, Eta_All, Pd)\n",
    "test_data_list_all = proc_data(BETAA_Test,Phii_Test,Eta_Test, Pd)\n",
    "selectedAP = 0\n",
    "train_data_list = []\n",
    "test_data_list = []\n",
    "for m in range(M):\n",
    "  train_data_list.append([train_data_list_all[i+m] for i in range(0,num_H*M,M)]) # select the first AP to train the model\n",
    "  test_data_list.append([test_data_list_all[i+m] for i in range(0,num_test*M,M)])\n",
    "device = torch.device('cuda' if torch.cuda.is_available() else 'cpu')\n",
    "print(torch.cuda.is_available())"
   ]
  },
  {
   "cell_type": "code",
   "execution_count": 21,
   "id": "21a97419",
   "metadata": {},
   "outputs": [],
   "source": [
    "train_loader = [[] for _ in range(M)]\n",
    "test_loader = [[] for _ in range(M)]\n",
    "for m in range(M):\n",
    "  train_loader[m] = list(DataLoader(train_data_list[m], batch_size=32, shuffle=False,num_workers=0))\n",
    "  test_loader[m] = list(DataLoader(test_data_list[m], batch_size=32, shuffle=False,num_workers=0))\n",
    "# for m in range(M):\n",
    "#   train_loader[m] = list(train_loader[m])\n",
    "#   test_loader[m] = list(test_loader[m])"
   ]
  },
  {
   "cell_type": "code",
   "execution_count": null,
   "id": "19e789a3",
   "metadata": {},
   "outputs": [
    {
     "name": "stderr",
     "output_type": "stream",
     "text": [
      "/home/wine-4/miniconda3/envs/GNN_FL/lib/python3.10/site-packages/torch_geometric/warnings.py:17: UserWarning: The usage of `scatter(reduce='max')` can be accelerated via the 'torch-scatter' package, but it was not found\n",
      "  warnings.warn(message)\n"
     ]
    },
    {
     "ename": "NameError",
     "evalue": "name 'tau' is not defined",
     "output_type": "error",
     "traceback": [
      "\u001b[0;31m---------------------------------------------------------------------------\u001b[0m",
      "\u001b[0;31mNameError\u001b[0m                                 Traceback (most recent call last)",
      "Cell \u001b[0;32mIn[26], line 40\u001b[0m\n\u001b[1;32m     37\u001b[0m         out_trainn\u001b[38;5;241m.\u001b[39mappend(model(data))\n\u001b[1;32m     39\u001b[0m \u001b[38;5;66;03m# Loss calculation\u001b[39;00m\n\u001b[0;32m---> 40\u001b[0m loss,_,_ \u001b[38;5;241m=\u001b[39m \u001b[43msr_loss_matrix\u001b[49m\u001b[43m(\u001b[49m\u001b[43mdata_trainn\u001b[49m\u001b[43m,\u001b[49m\u001b[43m \u001b[49m\u001b[43mout_trainn\u001b[49m\u001b[43m,\u001b[49m\u001b[43m \u001b[49m\u001b[43mK\u001b[49m\u001b[43m,\u001b[49m\u001b[43m \u001b[49m\u001b[43mM\u001b[49m\u001b[43m,\u001b[49m\u001b[43m \u001b[49m\u001b[43msr_weight\u001b[49m\u001b[43m,\u001b[49m\u001b[43m \u001b[49m\u001b[43mnsu_weight\u001b[49m\u001b[43m,\u001b[49m\u001b[43m \u001b[49m\u001b[43mRthr\u001b[49m\u001b[43m)\u001b[49m\n\u001b[1;32m     41\u001b[0m loss\u001b[38;5;241m.\u001b[39mbackward()\n\u001b[1;32m     42\u001b[0m total_loss_train \u001b[38;5;241m+\u001b[39m\u001b[38;5;241m=\u001b[39m loss\u001b[38;5;241m.\u001b[39mitem() \u001b[38;5;241m*\u001b[39m train_loader[m][ite]\u001b[38;5;241m.\u001b[39mnum_graphs\n",
      "File \u001b[0;32m~/Documents/Giang/GNN_FL/Utils/training.py:26\u001b[0m, in \u001b[0;36msr_loss_matrix\u001b[0;34m(data_trainn, out_trainn, K, M, sr_weight, nsu_weight, Rthr)\u001b[0m\n\u001b[1;32m     23\u001b[0m BETAA_repeat_row \u001b[38;5;241m=\u001b[39m torch\u001b[38;5;241m.\u001b[39mstack([TermBETAA[ite]\u001b[38;5;241m.\u001b[39mt()\u001b[38;5;241m.\u001b[39mrepeat(K,\u001b[38;5;241m1\u001b[39m) \u001b[38;5;28;01mfor\u001b[39;00m ite \u001b[38;5;129;01min\u001b[39;00m \u001b[38;5;28mrange\u001b[39m(N_graph)]) \u001b[38;5;66;03m# a row is a vector of channel\u001b[39;00m\n\u001b[1;32m     25\u001b[0m \u001b[38;5;66;03m# Gamma calculation\u001b[39;00m\n\u001b[0;32m---> 26\u001b[0m Denom_matrix \u001b[38;5;241m=\u001b[39m \u001b[43mtau\u001b[49m \u001b[38;5;241m*\u001b[39m torch\u001b[38;5;241m.\u001b[39msum(torch\u001b[38;5;241m.\u001b[39mmul(Phii_Multiplication, BETAA_repeat_row), dim\u001b[38;5;241m=\u001b[39m\u001b[38;5;241m2\u001b[39m, keepdim\u001b[38;5;241m=\u001b[39m\u001b[38;5;28;01mTrue\u001b[39;00m) \u001b[38;5;241m+\u001b[39m \u001b[38;5;241m1\u001b[39m\n\u001b[1;32m     27\u001b[0m Gamma \u001b[38;5;241m=\u001b[39m tau \u001b[38;5;241m*\u001b[39m (torch\u001b[38;5;241m.\u001b[39msquare(TermBETAA)\u001b[38;5;241m/\u001b[39mDenom_matrix)\n\u001b[1;32m     29\u001b[0m \u001b[38;5;66;03m# Pilot Contamination\u001b[39;00m\n",
      "\u001b[0;31mNameError\u001b[0m: name 'tau' is not defined"
     ]
    }
   ],
   "source": [
    "sr_weight = 0.2\n",
    "nsu_weight = 0.8\n",
    "Rthr = 3\n",
    "\n",
    "# Load your model\n",
    "# %cd '/content/drive/MyDrive/Mylearning/GNN_FL_based_Cell_Free_M_MIMO(Personal)'\n",
    "device = torch.device('cuda' if torch.cuda.is_available() else 'cpu')\n",
    "model = IGCNet().to(device)\n",
    "# model.load_state_dict(torch.load('Decen_10Antens_all.pth'))\n",
    "\n",
    "# model = IGCNet().to(device)\n",
    "# use_gpu = torch.cuda.is_available()\n",
    "# if use_gpu:\n",
    "#     model = model.cuda()\n",
    "\n",
    "\n",
    "optimizer = torch.optim.Adam(model.parameters(), lr=0.001)\n",
    "scheduler = torch.optim.lr_scheduler.StepLR(optimizer, step_size=20, gamma=0.9)\n",
    "\n",
    "LossSave=[]\n",
    "TestLossSave=[]\n",
    "for epoch in range(1,100):\n",
    "  model.train()\n",
    "\n",
    "  total_loss_train = 0\n",
    "  for ite in range(len(train_loader[0])): # len(train_loader[0]) ~ number of batch\n",
    "    data_trainn = []\n",
    "    out_trainn = []\n",
    "    for m in range(M): # 2\n",
    "      data = train_loader[m][ite]\n",
    "      data = data.to(device)\n",
    "      data_trainn.append(data)\n",
    "      if m==0:\n",
    "        out_trainn.append(model(data))\n",
    "      else:\n",
    "        with torch.no_grad():\n",
    "            out_trainn.append(model(data))\n",
    "\n",
    "    # Loss calculation\n",
    "    loss,_,_ = sr_loss_matrix(data_trainn, out_trainn, K, M, sr_weight, nsu_weight, Rthr, tau)\n",
    "    loss.backward()\n",
    "    total_loss_train += loss.item() * train_loader[m][ite].num_graphs\n",
    "    optimizer.step()\n",
    "    optimizer.zero_grad()\n",
    "  loss1 = total_loss_train/num_H*-1\n",
    "  LossSave.append(loss1)\n",
    "  if (epoch % 1 ==0):\n",
    "    model.eval()\n",
    "\n",
    "    total_loss_test = 0\n",
    "    sumrate_test = 0\n",
    "    num_satisfied_test = 0\n",
    "    for ite in range(len(test_loader[0])):\n",
    "      data_testt = []\n",
    "      out_testt = []\n",
    "      for m in range(M):\n",
    "        data_testt.append(test_loader[m][ite])\n",
    "        out_testt.append(model(test_loader[m][ite].to(device)))\n",
    "      # Loss calculation\n",
    "      with torch.no_grad():\n",
    "        loss,sumrate,num_satisfied = sr_loss_matrix(data_testt, out_testt, K, M, sr_weight, nsu_weight, Rthr)\n",
    "        # print(f\"loss test: {loss.item()}\")\n",
    "        total_loss_test += loss.item() * test_loader[m][ite].num_graphs\n",
    "        sumrate_test += sumrate.item() * test_loader[m][ite].num_graphs\n",
    "        num_satisfied_test += num_satisfied.item() * test_loader[m][ite].num_graphs\n",
    "        # print(f\"total_loss_test: {total_loss_test}\")\n",
    "    # print(num_test)\n",
    "    loss2 = total_loss_test/num_test*-1\n",
    "    sumrate2 = sumrate_test/num_test\n",
    "    num_satisfied2 = num_satisfied_test/num_test\n",
    "    TestLossSave.append(loss2)\n",
    "    print('Epoch {:03d}, Train Loss: {:.4f}, Val Loss: {:.4f}, Sum rate: {:.4f}, Number of satisfied Users: {:.4f}'.format(\n",
    "            epoch, loss1, loss2, sumrate2, num_satisfied2))\n",
    "    scheduler.step()"
   ]
  }
 ],
 "metadata": {
  "kernelspec": {
   "display_name": "GNN_FL",
   "language": "python",
   "name": "python3"
  },
  "language_info": {
   "codemirror_mode": {
    "name": "ipython",
    "version": 3
   },
   "file_extension": ".py",
   "mimetype": "text/x-python",
   "name": "python",
   "nbconvert_exporter": "python",
   "pygments_lexer": "ipython3",
   "version": "3.10.18"
  }
 },
 "nbformat": 4,
 "nbformat_minor": 5
}
