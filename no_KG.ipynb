{
 "cells": [
  {
   "cell_type": "code",
   "execution_count": 1,
   "id": "65385575",
   "metadata": {},
   "outputs": [],
   "source": [
    "import torch\n",
    "import numpy as np\n",
    "from torch_geometric.loader import DataLoader\n",
    "\n",
    "%reload_ext autoreload\n",
    "%autoreload 2\n"
   ]
  },
  {
   "cell_type": "markdown",
   "id": "d5e44915",
   "metadata": {},
   "source": [
    "## Test"
   ]
  },
  {
   "cell_type": "code",
   "execution_count": 2,
   "id": "7974e95a",
   "metadata": {},
   "outputs": [],
   "source": [
    "import scipy.io\n",
    "import os\n",
    "\n",
    "file_name = 'cf_data_1000_6_30'\n",
    "mat_data = scipy.io.loadmat('Data/' + file_name + '.mat')\n",
    "beta_all = mat_data['betas']\n",
    "phi_all = mat_data['Phii_cf'].transpose(0,2,1)\n",
    "min_rate = mat_data['R_cf_opt_min'].T"
   ]
  },
  {
   "cell_type": "markdown",
   "id": "fb4f8227",
   "metadata": {},
   "source": [
    "# Parameters\n"
   ]
  },
  {
   "cell_type": "code",
   "execution_count": 3,
   "id": "a3ebd70f",
   "metadata": {},
   "outputs": [],
   "source": [
    "_, _, num_sam, num_UE, num_AP = file_name.split('_')\n",
    "num_sam = int(num_sam)\n",
    "num_UE = int(num_UE)\n",
    "num_AP  = int(num_AP) "
   ]
  },
  {
   "cell_type": "code",
   "execution_count": 4,
   "id": "e000d21b",
   "metadata": {},
   "outputs": [],
   "source": [
    "\n",
    "# num_UE = 5 # number of terminals\n",
    "# num_AP = 30 # number of access points\n",
    "num_antenna = 1\n",
    "tau=20; power_f=0.2; D=1; f=1900; Hb=15; Hm=1.65; d0=0.01;d1=0.05;\n",
    "\n",
    "# random_matrix = np.random.randn(tau, tau)\n",
    "# U, S, V = np.linalg.svd(random_matrix)\n",
    "\n",
    "# Hb = 15 # Base station height in m\n",
    "# Hm = 1.65 # Mobile height in m\n",
    "# f = 1900 # Frequency in MHz\n",
    "# aL = (1.1 * np.log10(f) - 0.7) * Hm - (1.56 * np.log10(f) - 0.8)\n",
    "# L = 46.3+33.9*np.log10(f)-13.82*np.log10(Hb)-aL\n",
    "\n",
    "power_f=0.2 # downlink power\n",
    "rho_p, rho_d = power_f, power_f\n",
    "\n",
    "# Pd = power_f / 10 ** ((-203.975 + 10 * np.log10(20 * 10 ** 6) + 9) / 10) # normalized receive SNR\n",
    "Ther_noise = 20000000 * 10**(-17.4) * 10**-3\n",
    "Pd = 1/Ther_noise\n",
    "Pu=Pd\n",
    "\n",
    "d0=0.01 # km\n",
    "d1=0.05 # km\n",
    "\n",
    "\n"
   ]
  },
  {
   "cell_type": "code",
   "execution_count": 5,
   "id": "4b13b60c",
   "metadata": {},
   "outputs": [],
   "source": [
    "num_train = 300\n",
    "num_test = 200\n",
    "batchSize = 32\n",
    "\n",
    "lr = 5e-4\n",
    "step_size = 5\n",
    "gamma = 0.85\n",
    "\n",
    "# FL\n",
    "num_rounds = 200\n",
    "\n",
    "num_client = num_AP \n",
    "num_epochs = 1\n",
    "eval_round = num_rounds//10 if num_rounds//10 else 1"
   ]
  },
  {
   "cell_type": "markdown",
   "id": "386217ba",
   "metadata": {},
   "source": [
    "# Create data loader for training and testing "
   ]
  },
  {
   "cell_type": "code",
   "execution_count": 6,
   "id": "013dfd6b",
   "metadata": {},
   "outputs": [],
   "source": [
    "from Utils.data_gen import Generate_Input, create_graph\n",
    "\n",
    "# Beta_all, Phi_all = Generate_Input(num_train, tau, num_UE, num_AP, Pd, D=1, Hb=15, Hm=1.65, f=1900,\n",
    "#                     var_noise=1, Pmin=0, seed=2017, d0=d0, d1=d1)\n",
    "Beta_all, Phi_all = beta_all[:num_train], phi_all[:num_train]\n",
    "train_data = create_graph(Beta_all, Phi_all, 'het')\n",
    "train_loader = [\n",
    "    DataLoader(train_data[i], batch_size=batchSize, shuffle=True)\n",
    "    for i in range(num_AP)\n",
    "]\n",
    "\n",
    "\n",
    "# Beta_test, Phi_test = Generate_Input(num_test, tau, num_UE, num_AP, Pd, D=1, Hb=15, Hm=1.65, f=1900,\n",
    "#                     var_noise=1, Pmin=0, seed=2017, d0=d0, d1=d1)\n",
    "Beta_test, Phi_test = beta_all[-num_test:], phi_all[-num_test:]\n",
    "test_data = create_graph(Beta_test, Phi_test, 'het')\n",
    "test_loader = [\n",
    "    DataLoader(test_data[i], batch_size=batchSize, shuffle=False)\n",
    "    for i in range(num_AP)\n",
    "]\n",
    "\n",
    "\n",
    "train_data_cen = create_graph(Beta_all, Phi_all, 'het', isDecentralized=False)\n",
    "train_loader_cen = DataLoader(train_data_cen, batch_size=batchSize, shuffle=True)\n",
    "test_data_cen = create_graph(Beta_test, Phi_test, 'het', isDecentralized=False)\n",
    "test_loader_cen = DataLoader(test_data_cen, batch_size=batchSize, shuffle=False)"
   ]
  },
  {
   "cell_type": "code",
   "execution_count": 7,
   "id": "dbcf6e98",
   "metadata": {},
   "outputs": [
    {
     "data": {
      "text/plain": [
       "{'UE': 20, 'AP': 1, 'edge': 1}"
      ]
     },
     "execution_count": 7,
     "metadata": {},
     "output_type": "execute_result"
    }
   ],
   "source": [
    "hidden_channels = 64 # > 4\n",
    "num_gnn_layers = 2\n",
    "\n",
    "\n",
    "ap_dim = train_data[0][0]['AP'].x.shape[1]\n",
    "ue_dim = train_data[0][0]['UE'].x.shape[1]\n",
    "edge_dim = train_data[0][0]['down'].edge_attr.shape[1]\n",
    "tt_meta = [('UE', 'up', 'AP'), ('AP', 'down', 'UE')]\n",
    "dim_dict = {\n",
    "    'UE': ue_dim,\n",
    "    'AP': ap_dim,\n",
    "    'edge': edge_dim,\n",
    "}\n",
    "dim_dict"
   ]
  },
  {
   "cell_type": "code",
   "execution_count": 12,
   "id": "d35ce82c",
   "metadata": {},
   "outputs": [],
   "source": [
    "\n",
    "from Models.GNN import APHetNet\n",
    "\n",
    "device = torch.device('cuda' if torch.cuda.is_available() else 'cpu')\n",
    "\n",
    "global_model = APHetNet(\n",
    "    metadata=tt_meta,\n",
    "    dim_dict=dim_dict,\n",
    "    out_channels=hidden_channels,\n",
    "    num_layers=num_gnn_layers,\n",
    "    hid_layers=hidden_channels\n",
    ").to(device)\n",
    "local_models, optimizers, schedulers  = [], [], []\n",
    "\n",
    "# Init every client model/optimizer\n",
    "for each_AP in range(num_AP):\n",
    "    model = APHetNet(\n",
    "        metadata=tt_meta,\n",
    "        dim_dict=dim_dict,\n",
    "        out_channels=hidden_channels,\n",
    "        num_layers=num_gnn_layers,\n",
    "        hid_layers=hidden_channels\n",
    "    ).to(device)\n",
    "    model.load_state_dict(global_model.state_dict()) \n",
    "    optimizer = torch.optim.Adam(model.parameters(), lr=lr)\n",
    "    scheduler = torch.optim.lr_scheduler.StepLR(optimizer, step_size=step_size, gamma=gamma)  # created ONCE\n",
    "    local_models.append(model)\n",
    "    optimizers.append(optimizer)\n",
    "    schedulers.append(scheduler)"
   ]
  },
  {
   "cell_type": "markdown",
   "id": "2a70bdca",
   "metadata": {},
   "source": [
    "# Main Training"
   ]
  },
  {
   "cell_type": "code",
   "execution_count": 17,
   "id": "da904c0f",
   "metadata": {},
   "outputs": [],
   "source": [
    "from Utils.decentralized_train import FedAdam, FedAvg\n",
    "\n",
    "# fed_adam = FedAdam(global_model=global_model, lr=1e-3)\n",
    "fedavg = FedAvg(client_fraction=0.3)\n",
    "\n"
   ]
  },
  {
   "cell_type": "code",
   "execution_count": null,
   "id": "2a5e44fe",
   "metadata": {},
   "outputs": [
    {
     "name": "stdout",
     "output_type": "stream",
     "text": [
      "Starting Federated Learning with 30 clients, local of 1 epoch(s),  for 200 rounds\n"
     ]
    },
    {
     "ename": "TypeError",
     "evalue": "FedAvg.aggregate() missing 1 required positional argument: 'selected_clients'",
     "output_type": "error",
     "traceback": [
      "\u001b[0;31m---------------------------------------------------------------------------\u001b[0m",
      "\u001b[0;31mTypeError\u001b[0m                                 Traceback (most recent call last)",
      "Cell \u001b[0;32mIn[18], line 40\u001b[0m\n\u001b[1;32m     33\u001b[0m avg_loss \u001b[38;5;241m=\u001b[39m total_loss \u001b[38;5;241m/\u001b[39m num_client\n\u001b[1;32m     34\u001b[0m \u001b[38;5;66;03m# print(f\"Round {round+1}: Average local training loss = {avg_loss:.6f}\")\u001b[39;00m\n\u001b[1;32m     35\u001b[0m \n\u001b[1;32m     36\u001b[0m \n\u001b[1;32m     37\u001b[0m \u001b[38;5;66;03m## 3. Update global models\u001b[39;00m\n\u001b[1;32m     38\u001b[0m \u001b[38;5;66;03m# global_weights = average_weights(local_weights)\u001b[39;00m\n\u001b[1;32m     39\u001b[0m \u001b[38;5;66;03m# global_weights = fed_adam.aggregate(global_model, local_weights)\u001b[39;00m\n\u001b[0;32m---> 40\u001b[0m global_weights \u001b[38;5;241m=\u001b[39m \u001b[43mfedavg\u001b[49m\u001b[38;5;241;43m.\u001b[39;49m\u001b[43maggregate\u001b[49m\u001b[43m(\u001b[49m\u001b[43mlocal_weights\u001b[49m\u001b[43m)\u001b[49m\n\u001b[1;32m     42\u001b[0m \u001b[38;5;66;03m# Broadcast updated global weights to all clients\u001b[39;00m\n\u001b[1;32m     43\u001b[0m \u001b[38;5;28;01mfor\u001b[39;00m model \u001b[38;5;129;01min\u001b[39;00m local_models:\n",
      "\u001b[0;31mTypeError\u001b[0m: FedAvg.aggregate() missing 1 required positional argument: 'selected_clients'"
     ]
    }
   ],
   "source": [
    "import copy\n",
    "from Utils.decentralized_train import (\n",
    "    get_global_info, distribute_global_info, average_weights,\n",
    "    fl_train,  fl_eval_rate\n",
    ")\n",
    "\n",
    "log = []\n",
    "\n",
    "print(f\"Starting Federated Learning with {num_client} clients, local of {num_epochs} epoch(s),  for {num_rounds} rounds\")\n",
    "\n",
    "for round in range(num_rounds):\n",
    "    # print(f\"\\n=== Federated Round {round+1}/{num_rounds} ===\")\n",
    "    \n",
    "    ## 1.Exchange global information\n",
    "    send_to_server = get_global_info(\n",
    "        train_loader, local_models, optimizers,\n",
    "        tau=tau, rho_p=power_f, rho_d=power_f\n",
    "    )\n",
    "    response_all = distribute_global_info(send_to_server)\n",
    "    \n",
    "    \n",
    "    ## 2. Training Local models    \n",
    "    local_weights = []\n",
    "    total_loss = 0.0\n",
    "    for model, opt, batches , responses_ap in zip(local_models, optimizers, train_loader, response_all):\n",
    "        for epoch in range(num_epochs):\n",
    "            train_loss = fl_train(\n",
    "                batches, responses_ap, model, opt,\n",
    "                tau=tau, rho_p=power_f, rho_d=power_f, num_antenna=num_antenna\n",
    "            )\n",
    "        local_weights.append(copy.deepcopy(model.state_dict()))\n",
    "        total_loss += train_loss\n",
    "    avg_loss = total_loss / num_client\n",
    "    # print(f\"Round {round+1}: Average local training loss = {avg_loss:.6f}\")\n",
    "\n",
    "\n",
    "    ## 3. Update global models\n",
    "    selected_clients = fedavg.sample_clients(num_client)\n",
    "    # global_weights = average_weights(local_weights)\n",
    "    # global_weights = fed_adam.aggregate(global_model, local_weights)\n",
    "    global_weights = fedavg.aggregate(local_weights, selected_clients)\n",
    "\n",
    "    # Broadcast updated global weights to all clients\n",
    "    for model in local_models:\n",
    "        model.load_state_dict(global_weights)\n",
    "    # for opt in optimizers: opt.state = {}\n",
    "    for sch in schedulers:\n",
    "        sch.step()\n",
    "        \n",
    "    \n",
    "    total_train_rate = fl_eval_rate(\n",
    "        train_loader, local_models,\n",
    "        tau=tau, rho_p=power_f, rho_d=power_f, num_antenna=num_antenna\n",
    "    )\n",
    "    \n",
    "    total_eval_rate = fl_eval_rate(\n",
    "        test_loader, local_models,\n",
    "        tau=tau, rho_p=power_f, rho_d=power_f, num_antenna=num_antenna\n",
    "    )\n",
    "    if round%eval_round==0:\n",
    "        print(f\"Round {round+1:03d}/{num_rounds}: Avg Training Loss = {avg_loss:.4f} | Avg Training Rate = {total_train_rate:.4f} | Avg Eval rate = {total_eval_rate:.4f}\")\n",
    "            \n",
    "    log.append({\n",
    "        \"round\": round + 1,\n",
    "        \"train_loss\": avg_loss,\n",
    "        \"eval\": total_eval_rate\n",
    "    })\n",
    "    "
   ]
  },
  {
   "cell_type": "markdown",
   "id": "c19086df",
   "metadata": {},
   "source": [
    "# Centralized training"
   ]
  },
  {
   "cell_type": "code",
   "execution_count": 13,
   "id": "3b6b6b07",
   "metadata": {},
   "outputs": [],
   "source": [
    "from Models.GNN import APHetNet\n",
    "\n",
    "device = torch.device('cuda' if torch.cuda.is_available() else 'cpu')\n",
    "from torch.optim.lr_scheduler import StepLR\n",
    "\n",
    "cen_model = APHetNet(\n",
    "    metadata=tt_meta,\n",
    "    dim_dict=dim_dict,\n",
    "    out_channels=hidden_channels,\n",
    "    num_layers=num_gnn_layers,\n",
    "    hid_layers=hidden_channels,\n",
    "    edge_conv=True\n",
    ").to(device)\n",
    "cen_optimizer = torch.optim.Adam(cen_model.parameters(), lr=lr)\n",
    "cen_scheduler = StepLR(cen_optimizer, step_size=10, gamma=0.5)"
   ]
  },
  {
   "cell_type": "code",
   "execution_count": 14,
   "id": "c0e65388",
   "metadata": {},
   "outputs": [],
   "source": [
    "num_epochs = 500\n",
    "eval_epochs = num_epochs//10 if num_epochs//10 else 1"
   ]
  },
  {
   "cell_type": "code",
   "execution_count": 15,
   "id": "4a81381f",
   "metadata": {},
   "outputs": [
    {
     "name": "stdout",
     "output_type": "stream",
     "text": [
      "Epoch 001/500 | Train Loss: -0.769547 | Train Rate: 0.782337 | Test Rate: 0.782337 \n",
      "Epoch 051/500 | Train Loss: -0.860923 | Train Rate: 0.874137 | Test Rate: 0.874137 \n",
      "Epoch 101/500 | Train Loss: -0.870178 | Train Rate: 0.839325 | Test Rate: 0.839325 \n",
      "Epoch 151/500 | Train Loss: -0.867306 | Train Rate: 0.853426 | Test Rate: 0.853426 \n",
      "Epoch 201/500 | Train Loss: -0.867350 | Train Rate: 0.862690 | Test Rate: 0.862690 \n",
      "Epoch 251/500 | Train Loss: -0.869776 | Train Rate: 0.867683 | Test Rate: 0.867682 \n",
      "Epoch 301/500 | Train Loss: -0.862934 | Train Rate: 0.848316 | Test Rate: 0.848316 \n",
      "Epoch 351/500 | Train Loss: -0.867128 | Train Rate: 0.865271 | Test Rate: 0.865271 \n",
      "Epoch 401/500 | Train Loss: -0.870192 | Train Rate: 0.871904 | Test Rate: 0.871904 \n",
      "Epoch 451/500 | Train Loss: -0.869947 | Train Rate: 0.785719 | Test Rate: 0.785719 \n"
     ]
    }
   ],
   "source": [
    "from Utils.centralized_train import cen_eval, cen_train\n",
    "for epoch in range(num_epochs):\n",
    "    cen_model.eval()\n",
    "    with torch.no_grad():\n",
    "        train_eval = cen_eval(\n",
    "            train_loader_cen, cen_model,\n",
    "            tau=tau, rho_p=power_f, rho_d=power_f, num_antenna=num_antenna\n",
    "        )\n",
    "        test_eval = cen_eval(\n",
    "            train_loader_cen, cen_model,\n",
    "            tau=tau, rho_p=power_f, rho_d=power_f, num_antenna=num_antenna\n",
    "        )\n",
    "    cen_model.train()\n",
    "    train_loss = cen_train(\n",
    "        train_loader_cen, cen_model, cen_optimizer,\n",
    "        tau=tau, rho_p=power_f, rho_d=power_f, num_antenna=num_antenna\n",
    "    )\n",
    "    cen_scheduler.step()\n",
    "    if epoch%eval_epochs==0:\n",
    "        print(\n",
    "            f\"Epoch {epoch+1:03d}/{num_epochs} | \"\n",
    "            f\"Train Loss: {train_loss:.6f} | \"\n",
    "            f\"Train Rate: {train_eval:.6f} | \"\n",
    "            f\"Test Rate: {test_eval:.6f} \"\n",
    "        )"
   ]
  },
  {
   "cell_type": "markdown",
   "id": "1b989e4d",
   "metadata": {},
   "source": [
    "# Plot CDF"
   ]
  },
  {
   "cell_type": "code",
   "execution_count": 16,
   "id": "42e407b2",
   "metadata": {},
   "outputs": [],
   "source": [
    "eval_file_name = 'cf_data_200_6_30'\n",
    "eval_mat = scipy.io.loadmat('Data/' + eval_file_name + '.mat')\n",
    "Beta_eval = eval_mat['betas']\n",
    "Phi_eval = eval_mat['Phii_cf'].transpose(0,2,1)\n",
    "num_eval = Phi_eval.shape[0]"
   ]
  },
  {
   "cell_type": "code",
   "execution_count": 17,
   "id": "e3344690",
   "metadata": {},
   "outputs": [],
   "source": [
    "eval_data = create_graph(Beta_eval, Phi_eval, 'het')\n",
    "eval_loader = [\n",
    "    DataLoader(eval_data[i], batch_size=num_eval, shuffle=False)\n",
    "    for i in range(num_AP)\n",
    "]\n",
    "\n",
    "eval_data_cen = create_graph(Beta_eval, Phi_eval, 'het', isDecentralized=False)\n",
    "eval_loader_cen = DataLoader(eval_data_cen, batch_size=num_eval, shuffle=True)"
   ]
  },
  {
   "cell_type": "code",
   "execution_count": 18,
   "id": "f9795cd1",
   "metadata": {},
   "outputs": [],
   "source": [
    "from Utils.comm import variance_calculate, rate_calculation\n",
    "\n",
    "all_power = []\n",
    "all_large_scale = []\n",
    "all_phi = []\n",
    "for batch_idx, batches_at_k in enumerate(zip(*eval_loader)):\n",
    "    per_batch_power = []\n",
    "    per_batch_large_scale = []\n",
    "    for ap_idx, (model, batch) in enumerate(zip(local_models, batches_at_k)):\n",
    "        model.eval()\n",
    "        # iterate over all batch of each AP\n",
    "        batch = batch.to(device)\n",
    "        num_graphs = batch.num_graphs\n",
    "        num_UEs = batch['UE'].x.shape[0]//num_graphs\n",
    "        num_APs = batch['AP'].x.shape[0]//num_graphs\n",
    "        \n",
    "        x_dict, edge_dict, edge_index = model(batch)\n",
    "        power = x_dict['UE'].reshape(num_graphs, num_UEs, -1)\n",
    "        power_matrix = power[:,:,-1][:, None, :]\n",
    "        pilot_matrix = batch['UE'].x.reshape(num_graphs, num_UEs, -1)\n",
    "        large_scale = batch['AP','down','UE'].edge_attr.reshape(num_graphs, num_APs, num_UEs)\n",
    "        \n",
    "        channel_variance = variance_calculate(large_scale, pilot_matrix, tau, rho_p)\n",
    "        sum_weighted = torch.sum(power_matrix * channel_variance, dim=1, keepdim=True)   # shape (M,1)\n",
    "        power_matrix = power_matrix / sum_weighted\n",
    "        \n",
    "        per_batch_power.append(power_matrix)\n",
    "        per_batch_large_scale.append(large_scale)\n",
    "        # per_batch_phi.append(power_matrix)\n",
    "    per_batch_phi = pilot_matrix\n",
    "    per_batch_power = torch.cat(per_batch_power, dim=1)\n",
    "    per_batch_large_scale = torch.cat(per_batch_large_scale, dim=1)\n",
    "        \n",
    "    all_power.append(per_batch_power)\n",
    "    all_large_scale.append(per_batch_large_scale)\n",
    "    all_phi.append(per_batch_phi)\n",
    "\n",
    "total_min_rate = 0.0\n",
    "total_samples = 0.0\n",
    "for each_power, each_large_scale, each_phi in zip(all_power, all_large_scale, all_phi):\n",
    "    num_graphs = len(each_power)\n",
    "    each_channel_variance = variance_calculate(each_large_scale, each_phi, tau=tau, rho_p=rho_p)\n",
    "    rate = rate_calculation(each_power, each_large_scale, each_channel_variance, each_phi, rho_d=rho_d, num_antenna=num_antenna)\n",
    "    min_rate, _ = torch.min(rate, dim=1)\n",
    "fl_rates = min_rate.detach().cpu().numpy()\n",
    "    "
   ]
  },
  {
   "cell_type": "code",
   "execution_count": 19,
   "id": "82fe27d1",
   "metadata": {},
   "outputs": [],
   "source": [
    "from Utils.centralized_train import cen_loss_function\n",
    "\n",
    "cen_model.eval()\n",
    "for batch in eval_loader_cen:\n",
    "    batch = batch.to(device)\n",
    "    num_graph = batch.num_graphs\n",
    "    x_dict, edge_dict, edge_index = cen_model(batch)\n",
    "    \n",
    "    gnn_rates, all_one_rates = cen_loss_function(\n",
    "        batch, x_dict, edge_dict,\n",
    "        tau=tau, rho_p=rho_p, rho_d=rho_d, num_antenna=num_antenna, eval_mode=True\n",
    "    )\n",
    "    gnn_rates = gnn_rates.detach().cpu().numpy() \n",
    "    all_one_rates = all_one_rates.detach().cpu().numpy() \n",
    "    \n",
    "    # gnn_rates = rate_loss(output, d_test, c_test, True).flatten().detach().numpy()"
   ]
  },
  {
   "cell_type": "code",
   "execution_count": 20,
   "id": "939efc96",
   "metadata": {},
   "outputs": [],
   "source": [
    "opt_rates = eval_mat['R_cf_opt_min']"
   ]
  },
  {
   "cell_type": "code",
   "execution_count": 21,
   "id": "4335ad4d",
   "metadata": {},
   "outputs": [],
   "source": [
    "# min_rate, max_rate = 0, 2\n",
    "# y_axis = np.linspace(0, 1, num_eval+2)\n",
    "# opt_rates.sort(); \n",
    "# opt_rates = np.insert(opt_rates, 0, min_rate); opt_rates = np.insert(opt_rates,num_eval+1,max_rate)\n"
   ]
  },
  {
   "cell_type": "code",
   "execution_count": 22,
   "id": "92ff23ad",
   "metadata": {},
   "outputs": [],
   "source": [
    "num_eval = Phi_eval.shape[0]\n",
    "min_rate, max_rate = 0, 2\n",
    "# y_axis = np.arange(0, 1.0, 1/202)\n",
    "y_axis = np.linspace(0, 1, num_eval+2)\n",
    "gnn_rates.sort();  opt_rates.sort(); all_one_rates.sort(); fl_rates.sort()\n",
    "gnn_rates = np.insert(gnn_rates, 0, min_rate); gnn_rates = np.insert(gnn_rates,num_eval+1,max_rate)\n",
    "fl_rates = np.insert(fl_rates, 0, min_rate); fl_rates = np.insert(fl_rates,num_eval+1,max_rate)\n",
    "all_one_rates = np.insert(all_one_rates, 0, min_rate); all_one_rates = np.insert(all_one_rates,num_eval+1,max_rate)\n",
    "opt_rates = np.insert(opt_rates, 0, min_rate); opt_rates = np.insert(opt_rates,num_eval+1,max_rate)"
   ]
  },
  {
   "cell_type": "code",
   "execution_count": 23,
   "id": "d7e85e8a",
   "metadata": {},
   "outputs": [
    {
     "data": {
      "image/png": "[encoded data removed]",
      "text/plain": [
       "<Figure size 640x480 with 1 Axes>"
      ]
     },
     "metadata": {},
     "output_type": "display_data"
    }
   ],
   "source": [
    "import matplotlib.pyplot as plt\n",
    "plt.plot(all_one_rates, y_axis, label = 'Maximum Power')\n",
    "plt.plot(fl_rates, y_axis, label = 'GNN-FL')\n",
    "plt.plot(gnn_rates, y_axis, label = 'GNN')\n",
    "plt.plot(opt_rates, y_axis, label = 'Optimal')\n",
    "plt.xlabel('Minimum rate [bps/Hz]', {'fontsize':16})\n",
    "plt.ylabel('Empirical CDF', {'fontsize':16})\n",
    "plt.legend(fontsize = 12)\n",
    "plt.grid()"
   ]
  },
  {
   "cell_type": "code",
   "execution_count": null,
   "id": "450ade57",
   "metadata": {},
   "outputs": [],
   "source": []
  }
 ],
 "metadata": {
  "kernelspec": {
   "display_name": "GNN_FL",
   "language": "python",
   "name": "python3"
  },
  "language_info": {
   "codemirror_mode": {
    "name": "ipython",
    "version": 3
   },
   "file_extension": ".py",
   "mimetype": "text/x-python",
   "name": "python",
   "nbconvert_exporter": "python",
   "pygments_lexer": "ipython3",
   "version": "3.10.18"
  }
 },
 "nbformat": 4,
 "nbformat_minor": 5
}
